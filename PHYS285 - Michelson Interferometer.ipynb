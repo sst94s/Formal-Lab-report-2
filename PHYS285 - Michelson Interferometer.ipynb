{
 "cells": [
  {
   "cell_type": "markdown",
   "metadata": {},
   "source": [
    "# PHYS285 - Michelson Interferometer \n",
    "###### Collaborators: Ollie Jones, Samuel Strickland, Elisha Alasdair Day, Liam Bignell\n",
    "\n",
    "### Introduction\n",
    "The Michelson Morley interferometer is a piece of equipment used to measure the wavelength of incident light rays. It achieves this by taking one homogenous incident ray and splitting it through a lens. The resulting waves then travel to one of two mirrors, one fixed and one movable. The reflected rays then travel back into the lens and onto the viewing screen. The difference in path length of the two beams due to the different distances travelled to each mirror results in an interference pattern on the viewing screen. Examining this interference pattern gives insight into the wavelength of the incident beam of light.\n",
    "\n",
    "In this experiment, the wavelength of a helium-neon (He-Ne) laser is determined by use of the Michelson-Morley interferometer by measuring the distance that the movable mirror moves when the interference pattern changes by $50$ nodal points. This relationship is governed by\n",
    "$$\\lambda = \\frac{2d}{m},$$\n",
    "where $\\lambda$ is the wavelength of the incident beam, $d$ is the distance moved by the moveable mirror, and $m$ is the number of nodal points passed over this distance.\n",
    "\n",
    "### Method\n",
    "An He-Ne laser is shone into the Michelson-Morley interferometer. The movable mirror was set so that it the movable arm was approximately at right angles to the interferometer and the measurement dial was set to zero. The interference pattern of the two light paths established on the viewing screen was examined. One nodal point was marked on the viewing screen and the dial was wound until $50$ nodal points had passed over the mark. The distance the moveable mirror had travelled was measured from the dial.\n",
    "\n",
    "Next, the refractive index of air was determined by passing the laser through a vacuum chamber with an attached vacuum pump. This allowed the slope of the refractive index vs. pressure graph to be calculated so the refractive index at atmospheric pressure could be derived.\n",
    "The mirror was aligned so the centre of the interference pattern was visible on the viewing screen then, as the pressure in the vacuum chamber was reduced to $-50 kPa$ (relative to atmospheric pressure), the number of fringes which passed the reference point was measured.\n",
    "The slope of the $n$ vs. pressure graph is defined as,\n",
    "$$\\frac{n_i - n_f}{P_i - P_f} = \\frac{\\Delta m \\lambda_0 / 2d}{P_i - P_f},$$\n",
    "where $P_i$ and $P_f$ are the initial and final pressures respectively, $n_i$ and $n_f$ are the refractive indices of air at the respective pressures, $\\Delta m$ is the number of fringes that passed the reference point, $\\lambda_0$ is the wavelength of the laser light in a vacuum, and $d$ is the length of the vacuum chamber.\n",
    "As $n=1$ at zero pressure, a graph of $n$ vs. pressure was plotted, and the refractive index at atmospheric pressure was derived.\n",
    "\n",
    "### Results and Analysis\n",
    "The distance taken for $50$ nodal points to pass through the mark on the viewing screen was $(14.90 \\pm 0.05) \\mu m$. This resulted in a wavelength of $(596 \\pm 16) nm$.\n",
    "\n",
    "The refractive index for air at atmospheric pressure was derived by plotting $n$ against pressure:"
   ]
  },
  {
   "cell_type": "code",
   "execution_count": 27,
   "metadata": {},
   "outputs": [
    {
     "name": "stdout",
     "output_type": "stream",
     "text": [
      "Refractive Index of Air at Atmospheric Pressure = (1.0003372 +\\- 0.0000009)\n",
      "Note: matplotlib has modified the y-axis and reduced every value by 1 to display it...\n"
     ]
    },
    {
     "data": {
      "image/png": "[encoded data removed]",
      "text/plain": [
       "<Figure size 432x288 with 1 Axes>"
      ]
     },
     "metadata": {
      "needs_background": "light"
     },
     "output_type": "display_data"
    }
   ],
   "source": [
    "import matplotlib.pyplot as plt\n",
    "import numpy as np\n",
    "\n",
    "def plot_graph(data, labels):\n",
    "    \"\"\" Generalised function to plot a graph with an optional model fit \"\"\"\n",
    "    x, y = data # a is the coefficient for a model\n",
    "    x_label, y_label, title = labels\n",
    "\n",
    "    plt.figure()\n",
    "    plt.plot(x, y, 'r-')\n",
    "\n",
    "    plt.xlabel(x_label)\n",
    "    plt.ylabel(y_label)\n",
    "    plt.title(title)\n",
    "\n",
    "# MEASURED VALUES\n",
    "p_i = 76.192768 # cmHg (101582 Pa)\n",
    "p_f = p_i - 37.503085 # cmHg (-50 Pa)\n",
    "d_p = 3.000247 # cmHg (4 kPa)\n",
    "dm = (16, 2)\n",
    "d = 3 # cm\n",
    "lambda_0 = 6.23991 * 10**(-5)\n",
    "\n",
    "# CALCULATIONS\n",
    "x = np.linspace(0, 80, 100)\n",
    "a = ((dm[0] * lambda_0) / (2 * d)) / (p_i - p_f) # Gradient\n",
    "d_a = a * np.sqrt((dm[1] / dm[0])**2 + ((2 * d_p) / (p_i - p_f))**2)\n",
    "y = a * x + 1 # At 0 cm Hg, n = 1\n",
    "\n",
    "# Refractive Index at 1 atm (76 mmHg)\n",
    "n_atm = a * 76 + 1\n",
    "d_n_atm = d_a * n_atm\n",
    "\n",
    "# DISPLAY\n",
    "data = (x, y)\n",
    "labels = (\"Pressure (cm Hg)\", \"Refractive Index\", \"Finding the Refractive Index of Air\")\n",
    "plot_graph(data, labels)\n",
    "print(\"Refractive Index of Air at Atmospheric Pressure = ({:.7f} +\\- {:.7f})\".format(n_atm, d_n_atm))\n",
    "print(\"Note: matplotlib has modified the y-axis and reduced every value by 1 to display it...\")"
   ]
  },
  {
   "cell_type": "markdown",
   "metadata": {},
   "source": [
    "### Discussion and Conclusion\n",
    "The wavelength of the He-Ne laser was found to be $(596 \\pm 16) nm$. This did not concur with the stated wavelength of the model used of $632.8 nm$. This is most likely due to defects in the system such as mirrors and lenses not being perfectly clean and causing unwanted effects on the light waves. For Task 2, our value for the refractive index of air was found to be $1.0003372 \\pm 0.0000009$ which was off from the expected value of $1.0002718$. This was most likely due to impurities in the windows of the vacuum chamber, and the difficulties in controlling the vacuum chamber in a steady manner which allowed the fringes in the diffraction pattern to be counted. "
   ]
  }
 ],
 "metadata": {
  "kernelspec": {
   "display_name": "Python 3",
   "language": "python",
   "name": "python3"
  },
  "language_info": {
   "codemirror_mode": {
    "name": "ipython",
    "version": 3
   },
   "file_extension": ".py",
   "mimetype": "text/x-python",
   "name": "python",
   "nbconvert_exporter": "python",
   "pygments_lexer": "ipython3",
   "version": "3.7.1"
  }
 },
 "nbformat": 4,
 "nbformat_minor": 2
}
